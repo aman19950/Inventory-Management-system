{
 "cells": [
  {
   "cell_type": "markdown",
   "metadata": {},
   "source": [
    "# Record of products"
   ]
  },
  {
   "cell_type": "code",
   "execution_count": null,
   "metadata": {
    "id": "MfzJwgt_hS_W"
   },
   "outputs": [],
   "source": [
    "records = {\n",
    "    1:{\"prod_name\":\"Samsung\",\"prod_category\":\"mobile\",\"prod_qunatity\":40,\"prod_price\":2040,\"purchase_date\":\"20-09-2021\"},\n",
    "    2:{\"prod_name\":\"Nokia\",\"prod_category\":\"mobile\",\"prod_qunatity\":20,\"prod_price\":2360,\"purchase_date\":\"20-09-2021\"},\n",
    "    3:{\"prod_name\":\"MI\",\"prod_category\":\"mobile\",\"prod_qunatity\":10,\"prod_price\":2030,\"purchase_date\":\"20-09-2021\"},\n",
    "    4:{\"prod_name\":\"RealME\",\"prod_category\":\"mobile\",\"prod_qunatity\":30,\"prod_price\":2500,\"purchase_date\":\"20-09-2021\"},\n",
    "    5:{\"prod_name\":\"Apple\",\"prod_category\":\"mobile\",\"prod_qunatity\":20,\"prod_price\":2000,\"purchase_date\":\"20-09-2021\"},\n",
    "    6:{\"prod_name\":\"Blackberry\",\"prod_category\":\"mobile\",\"prod_qunatity\":110,\"prod_price\":2000,\"purchase_date\":\"20-09-2021\"},\n",
    "    7:{\"prod_name\":\"Oneplus\",\"prod_category\":\"mobile\",\"prod_qunatity\":140,\"prod_price\":2500,\"purchase_date\":\"20-09-2021\"},\n",
    "    8:{\"prod_name\":\"Moto\",\"prod_category\":\"mobile\",\"prod_qunatity\":340,\"prod_price\":2050,\"purchase_date\":\"20-09-2021\"},\n",
    "    9:{\"prod_name\":\"Lenovo\",\"prod_category\":\"mobile\",\"prod_qunatity\":440,\"prod_price\":2330,\"purchase_date\":\"20-09-2021\"},\n",
    "    10:{\"prod_name\":\"Asus\",\"prod_category\":\"mobile\",\"prod_qunatity\":440,\"prod_price\":2360,\"purchase_date\":\"20-09-2021\"},\n",
    "    11:{\"prod_name\":\"Honor\",\"prod_category\":\"mobile\",\"prod_qunatity\":430,\"prod_price\":2400,\"purchase_date\":\"20-09-2021\"},\n",
    "    12:{\"prod_name\":\"Acer\",\"prod_category\":\"laptop\",\"prod_qunatity\":420,\"prod_price\":2060,\"purchase_date\":\"20-09-2021\"},\n",
    "    13:{\"prod_name\":\"ROG\",\"prod_category\":\"laptop\",\"prod_qunatity\":403,\"prod_price\":2060,\"purchase_date\":\"20-09-2021\"},\n",
    "    14:{\"prod_name\":\"HP\",\"prod_category\":\"laptop\",\"prod_qunatity\":430,\"prod_price\":2003,\"purchase_date\":\"20-09-2021\"},\n",
    "    15:{\"prod_name\":\"Lenovo\",\"prod_category\":\"laptop\",\"prod_qunatity\":420,\"prod_price\":2001,\"purchase_date\":\"20-09-2021\"},\n",
    "    16:{\"prod_name\":\"Macbook\",\"prod_category\":\"laptop\",\"prod_qunatity\":140,\"prod_price\":2040,\"purchase_date\":\"20-09-2021\"},\n",
    "    17:{\"prod_name\":\"Dell\",\"prod_category\":\"laptop\",\"prod_qunatity\":410,\"prod_price\":1030,\"purchase_date\":\"20-09-2021\"},\n",
    "    18:{\"prod_name\":\"MSI\",\"prod_category\":\"laptop\",\"prod_qunatity\":4330,\"prod_price\":20300,\"purchase_date\":\"20-09-2021\"},\n",
    "    19:{\"prod_name\":\"Sansui\",\"prod_category\":\"tv\",\"prod_qunatity\":430,\"prod_price\":20500,\"purchase_date\":\"20-09-2021\"},\n",
    "    20:{\"prod_name\":\"Videocon\",\"prod_category\":\"tv\",\"prod_qunatity\":340,\"prod_price\":20400,\"purchase_date\":\"20-09-2021\"},\n",
    "    21:{\"prod_name\":\"Motorola\",\"prod_category\":\"tv\",\"prod_qunatity\":410,\"prod_price\":52000,\"purchase_date\":\"20-09-2021\"},\n",
    "    22:{\"prod_name\":\"Phillips\",\"prod_category\":\"tv\",\"prod_qunatity\":440,\"prod_price\":20600,\"purchase_date\":\"20-09-2021\"},\n",
    "    23:{\"prod_name\":\"Oneplus\",\"prod_category\":\"tv\",\"prod_qunatity\":540,\"prod_price\":20300,\"purchase_date\":\"20-09-2021\"},\n",
    "    24:{\"prod_name\":\"Samsung\",\"prod_category\":\"tv\",\"prod_qunatity\":840,\"prod_price\":23000,\"purchase_date\":\"20-09-2021\"},\n",
    "    25:{\"prod_name\":\"Sony\",\"prod_category\":\"tv\",\"prod_qunatity\":480,\"prod_price\":32000,\"purchase_date\":\"20-09-2021\"},\n",
    "    26:{\"prod_name\":\"Nokia\",\"prod_category\":\"tv\",\"prod_qunatity\":480,\"prod_price\":52000,\"purchase_date\":\"20-09-2021\"},\n",
    "    27:{\"prod_name\":\"Panasonic\",\"prod_category\":\"tv\",\"prod_qunatity\":840,\"prod_price\":62000,\"purchase_date\":\"20-09-2021\"},\n",
    "    28:{\"prod_name\":\"Onida\",\"prod_category\":\"tv\",\"prod_qunatity\":440,\"prod_price\":26000,\"purchase_date\":\"20-09-2021\"},\n",
    "    29:{\"prod_name\":\"Micromax\",\"prod_category\":\"tv\",\"prod_qunatity\":140,\"prod_price\":52000,\"purchase_date\":\"20-09-2021\"},\n",
    "    30:{\"prod_name\":\"Llyod\",\"prod_category\":\"tv\",\"prod_qunatity\":440,\"prod_price\":62000,\"purchase_date\":\"20-09-2021\"},\n",
    "\n",
    "}"
   ]
  },
  {
   "cell_type": "markdown",
   "metadata": {},
   "source": [
    "## Dumps the Records into json file"
   ]
  },
  {
   "cell_type": "code",
   "execution_count": null,
   "metadata": {
    "id": "axl6uygVcM78"
   },
   "outputs": [],
   "source": [
    "import json\n",
    "js = json.dumps(record)\n",
    "fd = open('record.json','w')\n",
    "fd.write(js)\n",
    "fd.close()"
   ]
  },
  {
   "cell_type": "code",
   "execution_count": null,
   "metadata": {
    "id": "Iy8dPe3hUert"
   },
   "outputs": [],
   "source": [
    "fd = open('record.json','r')\n",
    "r = fd.read()\n",
    "fd.close()"
   ]
  },
  {
   "cell_type": "markdown",
   "metadata": {},
   "source": [
    "##  Adding  the single or multiple Products in Records"
   ]
  },
  {
   "cell_type": "code",
   "execution_count": null,
   "metadata": {},
   "outputs": [],
   "source": [
    "count = 1\n",
    "while True:\n",
    "    prod_id = int(input(\"enter the product id \"))\n",
    "    prod_name = str(input(\"enter the product name \"))\n",
    "    prod_category = str(input(\"enter the product category \"))\n",
    "    prod_qunatity = int(input(\"enter the product qunatity \"))\n",
    "    prod_price = int(input(\"enter the product price \"))\n",
    "    purchase_date = str(input(\"enter the purchase date \"))\n",
    "  \n",
    "    if(prod_id in record.keys()):\n",
    "        print(\"\\033[1m\" + \"Product Id is already Exist\")\n",
    "        print(\"\\033[1m\" + \"Enter New Product with new Product Id\")\n",
    "        break\n",
    "    else:\n",
    "        record[prod_id] = {'prod_name':prod_name,'prod_category':prod_category,'prod_qunatity':prod_qunatity,'prod_price':prod_price,'purchase_date'\n",
    "                         :purchase_date}\n",
    "        print(\"Enter 'yes' for Adding New product or Enter 'quit' anytime to exit:\")\n",
    "        count += 1\n",
    "        new_pro = input()\n",
    "        if new_pro == \"quit\":\n",
    "            break        "
   ]
  },
  {
   "cell_type": "markdown",
   "metadata": {},
   "source": [
    "## Update New Records in Json file With New Products"
   ]
  },
  {
   "cell_type": "code",
   "execution_count": null,
   "metadata": {
    "colab": {
     "base_uri": "https://localhost:8080/"
    },
    "id": "kFEIHGWZa7Ua",
    "outputId": "a8fe3a36-42fb-4c70-ede8-dcd6af51049c"
   },
   "outputs": [],
   "source": [
    "js = json.dumps(record)\n",
    "fd = open('record.json','w')\n",
    "fd.write(js)\n",
    "fd.close()"
   ]
  },
  {
   "cell_type": "markdown",
   "metadata": {},
   "source": [
    "# Pucrchasing the product from Inventory "
   ]
  },
  {
   "cell_type": "code",
   "execution_count": null,
   "metadata": {},
   "outputs": [],
   "source": [
    "count_in = 1\n",
    "prod_list = []\n",
    "sales = {}\n",
    "while True:\n",
    "    prod_id = int(input(\"enter the product id \"))\n",
    "    prod_qunat = int(input(\"enter the product qunatity \"))\n",
    "    sales[prod_id] = {'product':prod_id,'prod_qunat':prod_qunat,'amount':record[prod_id]['prod_price'] * prod_qunat}\n",
    "    prod_list.append(record[prod_id]['prod_name'])\n",
    "    prod_list.append(record[prod_id]['prod_price'])\n",
    "    prod_list.append(record[prod_id]['prod_price'] * prod_qunat)\n",
    "    if (record[prod_id]['prod_qunatity'] != 0):\n",
    "        record[prod_id]['prod_qunatity']  = record[prod_id]['prod_qunatity'] - prod_qunat\n",
    "    else:\n",
    "        print(\"Product is out of stock\")\n",
    "    print(\"Enter 'yes' for Purchase more product or Enter 'quit' anytime to exit:\")\n",
    "    count_in += 1\n",
    "    another_prod = input()\n",
    "    if another_prod == \"quit\":\n",
    "        break\n",
    "        \n",
    "print(\"List of purchased Item : \"prod_list)\n",
    "print(\"Sales : \"sales)"
   ]
  },
  {
   "cell_type": "markdown",
   "metadata": {},
   "source": [
    "# Update Record in json File"
   ]
  },
  {
   "cell_type": "code",
   "execution_count": null,
   "metadata": {
    "id": "F4zfG0ELbqmd"
   },
   "outputs": [],
   "source": [
    "js = json.dumps(record)\n",
    "fd = open('record.json','w')\n",
    "fd.write(js)\n",
    "fd.close()"
   ]
  },
  {
   "cell_type": "markdown",
   "metadata": {},
   "source": [
    "# Dumps the purchasing data in the Sales json File  "
   ]
  },
  {
   "cell_type": "code",
   "execution_count": null,
   "metadata": {
    "id": "nqeqUeTHg0nM"
   },
   "outputs": [],
   "source": [
    "js = json.dumps(sales)\n",
    "fd = open('sales.json','w')\n",
    "fd.write(js)\n",
    "fd.close()"
   ]
  }
 ],
 "metadata": {
  "celltoolbar": "Raw Cell Format",
  "colab": {
   "collapsed_sections": [],
   "name": "Untitled1.ipynb",
   "provenance": []
  },
  "kernelspec": {
   "display_name": "Python 3",
   "language": "python",
   "name": "python3"
  },
  "language_info": {
   "codemirror_mode": {
    "name": "ipython",
    "version": 3
   },
   "file_extension": ".py",
   "mimetype": "text/x-python",
   "name": "python",
   "nbconvert_exporter": "python",
   "pygments_lexer": "ipython3",
   "version": "3.8.5"
  }
 },
 "nbformat": 4,
 "nbformat_minor": 1
}
